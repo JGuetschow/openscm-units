{
 "cells": [
  {
   "cell_type": "markdown",
   "metadata": {},
   "source": [
    "# Introduction\n",
    "\n",
    "Here we give a brief introduction to `openscm_units`."
   ]
  },
  {
   "cell_type": "markdown",
   "metadata": {},
   "source": [
    "## The unit registry\n",
    "\n",
    "``openscm_units.unit_registry`` extends Pint's default unit registry by adding simple climate modelling related units. We'll spare the details here (they can be found in [TODO]), but the short idea is that you can now do all sorts of simple climate modelling related conversions which were previously impossible."
   ]
  },
  {
   "cell_type": "code",
   "execution_count": 1,
   "metadata": {},
   "outputs": [],
   "source": [
    "# NBVAL_IGNORE_OUTPUT\n",
    "import traceback\n",
    "\n",
    "import pandas as pd\n",
    "import seaborn as sns\n",
    "from pint.errors import DimensionalityError\n",
    "\n",
    "from openscm_units import unit_registry"
   ]
  },
  {
   "cell_type": "markdown",
   "metadata": {},
   "source": [
    "## Basics\n",
    "\n",
    "``openscm_units.unit_registry`` knows about basic units, e.g. 'CO2'."
   ]
  },
  {
   "cell_type": "code",
   "execution_count": 2,
   "metadata": {},
   "outputs": [
    {
     "data": {
      "text/html": [
       "\\[1\\ CO2\\]"
      ],
      "text/latex": [
       "$1\\ \\mathrm{CO2}$"
      ],
      "text/plain": [
       "1 <Unit('CO2')>"
      ]
     },
     "execution_count": 2,
     "metadata": {},
     "output_type": "execute_result"
    }
   ],
   "source": [
    "unit_registry(\"CO2\")"
   ]
  },
  {
   "cell_type": "markdown",
   "metadata": {},
   "source": [
    "Standard conversions are now trivial."
   ]
  },
  {
   "cell_type": "code",
   "execution_count": 3,
   "metadata": {},
   "outputs": [
    {
     "data": {
      "text/html": [
       "\\[0.2727272727272727\\ C\\]"
      ],
      "text/latex": [
       "$0.2727272727272727\\ \\mathrm{C}$"
      ],
      "text/plain": [
       "0.2727272727272727 <Unit('C')>"
      ]
     },
     "execution_count": 3,
     "metadata": {},
     "output_type": "execute_result"
    }
   ],
   "source": [
    "unit_registry(\"CO2\").to(\"C\")"
   ]
  },
  {
   "cell_type": "code",
   "execution_count": 4,
   "metadata": {},
   "outputs": [
    {
     "data": {
      "text/html": [
       "\\[1246.666666666667\\ CO2\\ megametric\\_ton/a\\]"
      ],
      "text/latex": [
       "$1246.666666666667\\ \\frac{\\mathrm{CO2} \\cdot \\mathrm{megametric\\_ton}}{\\mathrm{a}}$"
      ],
      "text/plain": [
       "1246.666666666667 <Unit('CO2 * megametric_ton / a')>"
      ]
     },
     "execution_count": 4,
     "metadata": {},
     "output_type": "execute_result"
    }
   ],
   "source": [
    "emissions_aus = 0.34 * unit_registry(\"Gt C / yr\")\n",
    "emissions_aus.to(\"Mt CO2/yr\")"
   ]
  },
  {
   "cell_type": "markdown",
   "metadata": {},
   "source": [
    "## Contexts\n",
    "\n",
    "In general, we cannot simply convert e.g. CO$_2$ emissions into CH$_4$ emissions. "
   ]
  },
  {
   "cell_type": "code",
   "execution_count": 5,
   "metadata": {},
   "outputs": [
    {
     "name": "stderr",
     "output_type": "stream",
     "text": [
      "Traceback (most recent call last):\n",
      "pint.errors.DimensionalityError: Cannot convert from 'CH4' ([methane]) to 'CO2' ([carbon])\n"
     ]
    }
   ],
   "source": [
    "try:\n",
    "    unit_registry(\"CH4\").to(\"CO2\")\n",
    "except DimensionalityError:\n",
    "    traceback.print_exc(limit=0, chain=False)"
   ]
  },
  {
   "cell_type": "markdown",
   "metadata": {},
   "source": [
    "However, a number of metrics exist which do allow conversions between GHG species. Pint plus OpenSCM's inbuilt metric conversions allow you to perform such conversions trivially by specifying the `context` keywrod."
   ]
  },
  {
   "cell_type": "code",
   "execution_count": 6,
   "metadata": {},
   "outputs": [
    {
     "data": {
      "text/html": [
       "\\[25.0\\ CO2\\]"
      ],
      "text/latex": [
       "$25.0\\ \\mathrm{CO2}$"
      ],
      "text/plain": [
       "25.0 <Unit('CO2')>"
      ]
     },
     "execution_count": 6,
     "metadata": {},
     "output_type": "execute_result"
    }
   ],
   "source": [
    "with unit_registry.context(\"AR4GWP100\"):\n",
    "    ch4_ar4gwp100_co2e = unit_registry(\"CH4\").to(\"CO2\")\n",
    "    \n",
    "ch4_ar4gwp100_co2e"
   ]
  },
  {
   "cell_type": "markdown",
   "metadata": {},
   "source": [
    "## Building up complexity\n",
    "\n",
    "`openscm_units` is meant to be a simple repository which does one thing, but does it well. We encourage you to use it wherever you like (and if you do please let us know via the [issue tracker](https://github.com/openscm-project/openscm-units/issues)). As an example of something we can do, we can quickly see how GWP100 has changed between assessment reports."
   ]
  },
  {
   "cell_type": "code",
   "execution_count": 7,
   "metadata": {},
   "outputs": [
    {
     "data": {
      "text/plain": [
       "<seaborn.axisgrid.FacetGrid at 0x12720d2e8>"
      ]
     },
     "execution_count": 7,
     "metadata": {},
     "output_type": "execute_result"
    },
    {
     "data": {
      "image/png": "[encoded data removed]",
      "text/plain": [
       "<Figure size 1800x360 with 5 Axes>"
      ]
     },
     "metadata": {
      "needs_background": "light"
     },
     "output_type": "display_data"
    }
   ],
   "source": [
    "# NBVAL_IGNORE_OUTPUT\n",
    "units_of_interest = [\"CO2\", \"CH4\", \"N2O\", \"HFC32\", \"CFC11\"]\n",
    "metrics_of_interest = [\"SARGWP100\", \"AR4GWP100\", \"AR5GWP100\"]\n",
    "data = {\n",
    "    \"unit\": [],\n",
    "    \"metric\": [],\n",
    "    \"value\": [],\n",
    "}\n",
    "for metric in metrics_of_interest:\n",
    "    with unit_registry.context(metric):\n",
    "        for unit in units_of_interest:\n",
    "            data[\"unit\"].append(unit)\n",
    "            data[\"metric\"].append(metric)\n",
    "            data[\"value\"].append(unit_registry(unit).to(\"CO2\").magnitude)\n",
    "\n",
    "data = pd.DataFrame(data)\n",
    "\n",
    "sns.catplot(\n",
    "    data=data,\n",
    "    x=\"metric\",\n",
    "    y=\"value\",\n",
    "    kind=\"bar\",\n",
    "    col=\"unit\",\n",
    "    col_wrap=5,\n",
    "    sharey=False,\n",
    ")"
   ]
  }
 ],
 "metadata": {
  "kernelspec": {
   "display_name": "Python 3",
   "language": "python",
   "name": "python3"
  },
  "language_info": {
   "codemirror_mode": {
    "name": "ipython",
    "version": 3
   },
   "file_extension": ".py",
   "mimetype": "text/x-python",
   "name": "python",
   "nbconvert_exporter": "python",
   "pygments_lexer": "ipython3",
   "version": "3.7.3"
  }
 },
 "nbformat": 4,
 "nbformat_minor": 4
}
